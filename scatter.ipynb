{
 "cells": [
  {
   "cell_type": "code",
   "execution_count": 1,
   "metadata": {},
   "outputs": [],
   "source": [
    "import matplotlib.pyplot as plt\n",
    "import numpy as np\n",
    "import pandas as pd\n",
    "from pandas.plotting import scatter_matrix\n",
    "\n",
    "filename = \"bodmas.npz\"\n",
    "data = np.load(filename)\n",
    "X = data['X']  # all the feature vectors\n",
    "y = data['y']  # labels, 0 as benign, 1 as malicious\n",
    "\n",
    "df = pd.DataFrame(X)\n",
    "\n",
    "# Create a scatter matrix plot\n",
    "scatter_matrix(df, figsize=(400, 300))\n",
    "\n",
    "# Save the generated image\n",
    "plt.savefig(\"scatter_matrix_plot.png\")\n"
   ]
  }
 ],
 "metadata": {
  "kernelspec": {
   "display_name": "MLDA",
   "language": "python",
   "name": "python3"
  },
  "language_info": {
   "codemirror_mode": {
    "name": "ipython",
    "version": 3
   },
   "file_extension": ".py",
   "mimetype": "text/x-python",
   "name": "python",
   "nbconvert_exporter": "python",
   "pygments_lexer": "ipython3",
   "version": "3.11.5"
  }
 },
 "nbformat": 4,
 "nbformat_minor": 2
}
