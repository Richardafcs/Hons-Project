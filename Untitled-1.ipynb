{
 "cells": [
  {
   "cell_type": "code",
   "execution_count": 5,
   "metadata": {},
   "outputs": [
    {
     "name": "stdout",
     "output_type": "stream",
     "text": [
      "(134435, 2381) (134435,)\n"
     ]
    }
   ],
   "source": [
    "import numpy as np\n",
    "\n",
    "filename = \"bodmas.npz\"\n",
    "data = np.load(filename)\n",
    "X = data['X']  # all the feature vectors\n",
    "y = data['y']  # labels, 0 as benign, 1 as malicious\n",
    "\n",
    "print(X.shape, y.shape)"
   ]
  },
  {
   "cell_type": "code",
   "execution_count": 9,
   "metadata": {},
   "outputs": [
    {
     "name": "stdout",
     "output_type": "stream",
     "text": [
      "(7140,)\n"
     ]
    }
   ],
   "source": [
    "from PIL import Image\n",
    "\n",
    "\n",
    "\n",
    "# Reshape the extended array to have three elements per pixel for RGB channels\n",
    "features_extended = X[:1, :2380]\n",
    "features_extended0 = np.append(features_extended, features_extended)\n",
    "features_extended1 = np.append(features_extended0, features_extended)\n",
    "\n",
    "print(features_extended1.shape)\n",
    "\n",
    "image_data = features_extended1.reshape(-1, 3)\n",
    "\n",
    "# Scale the image data to the range [0, 255] for RGB values\n",
    "image_data_scaled = (image_data - np.min(image_data)) / (np.max(image_data) - np.min(image_data)) * 255\n",
    "\n",
    "# Convert to uint8 data type\n",
    "image_data_scaled = image_data_scaled.astype(np.uint8)\n",
    "\n",
    "# Reshape the image data to the adjusted dimensions (height, width, channels)\n",
    "height = 20\n",
    "width = 119  # Adjust width as needed\n",
    "image_data_reshaped = image_data_scaled.reshape((height, width, 3))\n",
    "\n",
    "# Create an image object from the array\n",
    "image_object = Image.fromarray(image_data_reshaped)\n",
    "\n",
    "# Display the image using PIL\n",
    "image_object.show()"
   ]
  },
  {
   "cell_type": "code",
   "execution_count": 1,
   "metadata": {},
   "outputs": [
    {
     "ename": "NotADirectoryError",
     "evalue": "[WinError 267] 目录名称无效。: 'models0\\\\Decision Tree.joblib'",
     "output_type": "error",
     "traceback": [
      "\u001b[1;31m---------------------------------------------------------------------------\u001b[0m",
      "\u001b[1;31mNotADirectoryError\u001b[0m                        Traceback (most recent call last)",
      "Cell \u001b[1;32mIn[1], line 18\u001b[0m\n\u001b[0;32m     14\u001b[0m         joblib\u001b[38;5;241m.\u001b[39mdump(model, os\u001b[38;5;241m.\u001b[39mpath\u001b[38;5;241m.\u001b[39mjoin(folder_path, \u001b[38;5;124mf\u001b[39m\u001b[38;5;124m'\u001b[39m\u001b[38;5;132;01m{\u001b[39;00mfile[:\u001b[38;5;241m-\u001b[39m\u001b[38;5;241m7\u001b[39m]\u001b[38;5;132;01m}\u001b[39;00m\u001b[38;5;124m.joblib\u001b[39m\u001b[38;5;124m'\u001b[39m))\n\u001b[0;32m     17\u001b[0m \u001b[38;5;28;01mfor\u001b[39;00m model_name \u001b[38;5;129;01min\u001b[39;00m model_names:\n\u001b[1;32m---> 18\u001b[0m     \u001b[43mconvert_to_old_version\u001b[49m\u001b[43m(\u001b[49m\u001b[43mmodel_name\u001b[49m\u001b[43m)\u001b[49m\n",
      "Cell \u001b[1;32mIn[1], line 10\u001b[0m, in \u001b[0;36mconvert_to_old_version\u001b[1;34m(model_name)\u001b[0m\n\u001b[0;32m      8\u001b[0m \u001b[38;5;28;01mdef\u001b[39;00m \u001b[38;5;21mconvert_to_old_version\u001b[39m(model_name):\n\u001b[0;32m      9\u001b[0m     folder_path \u001b[38;5;241m=\u001b[39m os\u001b[38;5;241m.\u001b[39mpath\u001b[38;5;241m.\u001b[39mjoin(\u001b[38;5;124m\"\u001b[39m\u001b[38;5;124mmodels0\u001b[39m\u001b[38;5;124m\"\u001b[39m, model_name \u001b[38;5;241m+\u001b[39m \u001b[38;5;124m\"\u001b[39m\u001b[38;5;124m.joblib\u001b[39m\u001b[38;5;124m\"\u001b[39m)\n\u001b[1;32m---> 10\u001b[0m     files \u001b[38;5;241m=\u001b[39m \u001b[43mos\u001b[49m\u001b[38;5;241;43m.\u001b[39;49m\u001b[43mlistdir\u001b[49m\u001b[43m(\u001b[49m\u001b[43mfolder_path\u001b[49m\u001b[43m)\u001b[49m\n\u001b[0;32m     11\u001b[0m     \u001b[38;5;28;01mfor\u001b[39;00m file \u001b[38;5;129;01min\u001b[39;00m files:\n\u001b[0;32m     12\u001b[0m         model \u001b[38;5;241m=\u001b[39m joblib\u001b[38;5;241m.\u001b[39mload(os\u001b[38;5;241m.\u001b[39mpath\u001b[38;5;241m.\u001b[39mjoin(folder_path, file))\n",
      "\u001b[1;31mNotADirectoryError\u001b[0m: [WinError 267] 目录名称无效。: 'models0\\\\Decision Tree.joblib'"
     ]
    }
   ],
   "source": [
    "import os\n",
    "import joblib\n",
    "\n",
    "\n",
    "model_names = ['Decision Tree', 'Random Forest', 'SVM', 'K-Nearest Neighbors', 'Gradient Boosting', 'Multilayer Perceptron', 'AdaBoost']\n",
    "\n",
    "\n",
    "def convert_to_old_version(model_name):\n",
    "    folder_path = os.path.join(\"models0\", model_name + \".joblib\")\n",
    "    files = os.listdir(folder_path)\n",
    "    for file in files:\n",
    "        model = joblib.load(os.path.join(folder_path, file))\n",
    "        joblib.version = '1.0.1'\n",
    "        joblib.dump(model, os.path.join(folder_path, f'{file[:-7]}.joblib'))\n",
    "\n",
    "\n",
    "for model_name in model_names:\n",
    "    convert_to_old_version(model_name)\n"
   ]
  }
 ],
 "metadata": {
  "kernelspec": {
   "display_name": "MLDA",
   "language": "python",
   "name": "python3"
  },
  "language_info": {
   "codemirror_mode": {
    "name": "ipython",
    "version": 3
   },
   "file_extension": ".py",
   "mimetype": "text/x-python",
   "name": "python",
   "nbconvert_exporter": "python",
   "pygments_lexer": "ipython3",
   "version": "3.11.5"
  }
 },
 "nbformat": 4,
 "nbformat_minor": 2
}
